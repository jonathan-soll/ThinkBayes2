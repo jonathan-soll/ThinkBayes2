{
 "cells": [
  {
   "cell_type": "markdown",
   "metadata": {},
   "source": [
    "http://www.greenteapress.com/thinkbayes/thinkbayes.pdf"
   ]
  },
  {
   "cell_type": "code",
   "execution_count": 50,
   "metadata": {
    "collapsed": true
   },
   "outputs": [],
   "source": [
    "from thinkbayes2 import Pmf, Suite"
   ]
  },
  {
   "cell_type": "markdown",
   "metadata": {},
   "source": [
    "The Cookie Problem:\n",
    "\n",
    "There are two bowls\n",
    "Bowl 1: 30 vanilla and 10 chocolate\n",
    "Bowl 2: 20 vanilla and 20 chocolate\n",
    "\n",
    "You pick one cookie and it is vanilla, what is the probability it is from Bowl 1?\n",
    "\n",
    "Likelihood for Bowl 1 = P(Vanilla|Bowl 1) = 0.75 <br>\n",
    "Likelihood for Bowl 2 = P(Vanilla|Bowl 2) = 0.5"
   ]
  },
  {
   "cell_type": "code",
   "execution_count": 5,
   "metadata": {},
   "outputs": [
    {
     "name": "stdout",
     "output_type": "stream",
     "text": [
      "0.6000000000000001\n"
     ]
    }
   ],
   "source": [
    "pmf = Pmf()\n",
    "\n",
    "# set the prior distribution to be a 50% chance the cookie is from Bowl 1 and 50% chance it's from Bowl 2\n",
    "pmf.Set('Bowl 1', 0.5)\n",
    "pmf.Set('Bowl 2', 0.5)\n",
    "\n",
    "# update the distribution based on new data by multiplying each prior by it's correspoding likelihood\n",
    "pmf.Mult('Bowl 1', 0.75)\n",
    "pmf.Mult('Bowl 2', 0.5)\n",
    "\n",
    "# normalize the probability distribution to add up to 1.0\n",
    "pmf.Normalize()\n",
    "\n",
    "print(pmf.Prob('Bowl 1'))"
   ]
  },
  {
   "cell_type": "code",
   "execution_count": 71,
   "metadata": {},
   "outputs": [
    {
     "name": "stdout",
     "output_type": "stream",
     "text": [
      "Bowl 1 0.6000000000000001\n",
      "Bowl 2 0.4\n",
      "\n",
      "Bowl 1 0.5294117647058824\n",
      "Bowl 2 0.4705882352941176\n"
     ]
    }
   ],
   "source": [
    "# define a class for the cookie problem\n",
    "\n",
    "class Cookie(Pmf):\n",
    "    def __init__(self, hypos):\n",
    "        \"\"\"\n",
    "        Initialize the class by setting each hypothesis in `hypos` with equal probability\n",
    "        and defining the mixes of each hypotheses via the variable `mixes`\n",
    "        \n",
    "        the Pmf initialization creates a `d` variables that is a dictionary of hypothesis where \n",
    "        the key is the name of the hypothesis and the value is the probability\n",
    "        \"\"\"\n",
    "        Pmf.__init__(self)\n",
    "        for hypo in hypos:\n",
    "            self.Set(hypo, 1)\n",
    "        self.Normalize()\n",
    "        self.mixes = {\n",
    "            'Bowl 1': dict(vanilla=0.75, chocolate=0.25),\n",
    "            'Bowl 2': dict(vanilla=0.5,  chocolate=0.5)\n",
    "        }\n",
    "        \n",
    "    def Likelihood(self, data, hypo):\n",
    "        \"\"\"\n",
    "        Given a data point and a hypothesis, get the likelihood of the data given the hypothesis\n",
    "        by looking at the `mixes` variable. \n",
    "        \n",
    "        Example, given the hypothesis of 'Bowl 1' and data of 'vanilla', the likelihood is the probability of \n",
    "        'vanilla' given 'Bowl 1' which is contained in the mixes variable.\n",
    "        \"\"\"\n",
    "        mix = self.mixes[hypo]\n",
    "        like = mix[data]\n",
    "        return like\n",
    "        \n",
    "    def Update(self, data):\n",
    "        \"\"\"\n",
    "        Perform bayesian updating\n",
    "        For each hypothesis, grab the likelihood of the data given the hypothesis via the Likelihood()\n",
    "        function. Then, multiply the likelihood by the prior to update it. Finally, normalize the probabilities\n",
    "        to add up to one\n",
    "        \"\"\"\n",
    "        for hypo in self.Values():\n",
    "            like = self.Likelihood(data, hypo)\n",
    "            self.Mult(hypo, like)\n",
    "        self.Normalize()\n",
    "        \n",
    "        \n",
    "hypos = ['Bowl 1', 'Bowl 2']\n",
    "pmf = Cookie(hypos)\n",
    "pmf.Update('vanilla')\n",
    "\n",
    "for hypo, prob in pmf.Items():\n",
    "    print(hypo, prob)\n",
    "    \n",
    "print('')\n",
    "    \n",
    "pmf = Cookie(hypos)\n",
    "dataset = ['vanilla', 'chocolate', 'vanilla']\n",
    "for data in dataset:\n",
    "    pmf.Update(data)\n",
    "    \n",
    "for hypo, prob in pmf.Items():\n",
    "    print(hypo, prob)"
   ]
  },
  {
   "cell_type": "markdown",
   "metadata": {},
   "source": [
    "Monty Hall problem:\n",
    "\n",
    "There are three doors, there is a car behind one door and no prize behind the other two. You pick door A and then Monty opens a different door that doesn't have a car behgind it.\n",
    "\n",
    "What is the probability it is behind each door?"
   ]
  },
  {
   "cell_type": "code",
   "execution_count": 72,
   "metadata": {},
   "outputs": [
    {
     "name": "stdout",
     "output_type": "stream",
     "text": [
      "A 0.3333333333333333\n",
      "B 0.0\n",
      "C 0.6666666666666666\n"
     ]
    }
   ],
   "source": [
    "class Monty(Pmf):\n",
    "    \n",
    "    def __init__(self, hypos):\n",
    "        \"\"\"\n",
    "        Initialize the class by setting each hypothesis in `hypos` with equal probability\n",
    "\n",
    "        the Pmf initialization creates a `d` variable that is a dictionary of hypotheses where \n",
    "        the key is the name of the hypothesis and the value is the probability\n",
    "        \"\"\"\n",
    "        Pmf.__init__(self)\n",
    "        for hypo in hypos:\n",
    "            self.Set(hypo, 1)\n",
    "        self.Normalize()\n",
    "        \n",
    "    def Likelihood(self, data, hypo):\n",
    "        \"\"\"\n",
    "        Given a data point and a hypothesis, get the likelihood of the data given the hypothesis\n",
    "        by looking at the `mixes` variable. \n",
    "        \n",
    "        In this case the data point is the door that Monty opens to reveal nothing behind it\n",
    "        \"\"\"\n",
    "        if hypo == data:\n",
    "            \"The likelihood of Monty opening the door with the car is 0\"\n",
    "            return 0\n",
    "        elif hypo == 'A':\n",
    "            \"The likelihood of Monty opening one of the other doors given the car is behind Door A is 0.5\"\n",
    "            return 0.5\n",
    "        else:\n",
    "            \"\"\"\n",
    "            If the car is not behind the Door we chose (and we know it's not behind the Door Monty opened)\n",
    "            then there is a 100% probability it is behind the door Monty did not open (i.e. not Door A and \n",
    "            not the door he opened)\n",
    "            \"\"\" \n",
    "            return 1\n",
    "        return like\n",
    "        \n",
    "    def Update(self, data):\n",
    "        \"\"\"\n",
    "        Perform bayesian updating\n",
    "        For each hypothesis, grab the likelihood of the data given the hypothesis via the Likelihood()\n",
    "        function. Then, multiply the likelihood by the prior to update it. Finally, normalize the probabilities\n",
    "        to add up to one\n",
    "        \"\"\"\n",
    "        for hypo in self.Values():\n",
    "            like = self.Likelihood(data, hypo)\n",
    "            self.Mult(hypo, like)\n",
    "        self.Normalize()\n",
    "    \n",
    "hypos = ['A', 'B', 'C']\n",
    "pmf = Monty(hypos)\n",
    "data = 'B' # After we choose Door A, Monty reveals nothing is behind Door B\n",
    "pmf.Update(data)\n",
    "\n",
    "for hypo, prob in pmf.Items():\n",
    "    print(hypo, prob)"
   ]
  },
  {
   "cell_type": "code",
   "execution_count": 76,
   "metadata": {},
   "outputs": [
    {
     "name": "stdout",
     "output_type": "stream",
     "text": [
      "A 0.3333333333333333\n",
      "B 0.0\n",
      "C 0.6666666666666666\n"
     ]
    }
   ],
   "source": [
    "class Monty(Suite):\n",
    "    \n",
    "    def Likelihood(self, data, hypo):\n",
    "        \"\"\"\n",
    "        Given a data point and a hypothesis, get the likelihood of the data given the hypothesis\n",
    "        by looking at the `mixes` variable. \n",
    "        \n",
    "        In this case the data point is the door that Monty opens to reveal nothing behind it\n",
    "        \"\"\"\n",
    "        if hypo == data:\n",
    "            \"The likelihood of Monty opening the door with the car is 0\"\n",
    "            return 0\n",
    "        elif hypo == 'A':\n",
    "            \"The likelihood of Monty opening one of the other doors given the car is behind Door A is 0.5\"\n",
    "            return 0.5\n",
    "        else:\n",
    "            \"\"\"\n",
    "            If the car is not behind the Door we chose (and we know it's not behind the Door Monty opened)\n",
    "            then there is a 100% probability it is behind the door Monty did not open (i.e. not Door A and \n",
    "            not the door he opened)\n",
    "            \"\"\" \n",
    "            return 1\n",
    "        return like\n",
    "    \n",
    "suite = Monty(['A', 'B', 'C'])\n",
    "suite.Update('B')\n",
    "suite.Print()"
   ]
  },
  {
   "cell_type": "markdown",
   "metadata": {},
   "source": [
    "The M&M Problem:\n",
    "\n",
    "In 1995 blue M&M's were first introduced. \n",
    "\n",
    "Pre-1995 mix:  30% Brown, 20% Yellow, 20% Red, 10% Green, 10% Orange, 10% Tan\n",
    "Post-1995 mix:  24% Blue, 20% Green, 16% Orange, 14% Yellow, 13% Red, 13% Brown\n",
    "\n",
    "There is one bag of M&Ms from 1994 and one from 1996, but we don't know which is which. We take one M&M from each bag.\n",
    "Bag 1: pulled a yellow\n",
    "Bag 2: pulled a green\n",
    "\n",
    "What is the probability the yellow one came from 1994 bag? I.e, what is the probability Bag 1 is from 1994?\n",
    "\n",
    "Hypotheses:\n",
    "A: Bag 1 is 1994, Bag 2 is 1996\n",
    "B: Bag 1 is 1996, Bag 2 is 1994"
   ]
  },
  {
   "cell_type": "code",
   "execution_count": 81,
   "metadata": {},
   "outputs": [
    {
     "name": "stdout",
     "output_type": "stream",
     "text": [
      "A 0.7407407407407407\n",
      "B 0.2592592592592592\n"
     ]
    }
   ],
   "source": [
    "class M_and_M(Suite):\n",
    "    \n",
    "\n",
    "    mix94 = dict(\n",
    "        brown=30,\n",
    "        yellow=20,\n",
    "        red=20,\n",
    "        green=10\n",
    "        , orange=10\n",
    "        , tan=10\n",
    "    )\n",
    "\n",
    "    mix96 = dict(\n",
    "        blue=24,\n",
    "        green=20,\n",
    "        orange=16,\n",
    "        yellow=14,\n",
    "        red=13,\n",
    "        brown=13\n",
    "    )\n",
    "    \n",
    "    hypoA = dict(bag1=mix94, bag2=mix96)\n",
    "    hypoB = dict(bag1=mix96, bag2=mix94)\n",
    "    hypotheses = dict(A=hypoA, B=hypoB)\n",
    "    \n",
    "    def Likelihood(self, data, hypo):\n",
    "        \"\"\"\n",
    "        Given a data point and a hypothesis, get the likelihood of the data given the hypothesis\n",
    "        by looking at the `mixes` variable. \n",
    "        \n",
    "        In this case the data point is a tuple that specifies a bag (i.e. \"bag1\" or \"bag2\") and a color (e.g. \"yellow\").\n",
    "        Given a hypothesis that the bag is from 1994 or 1996, the likelihood is the probability the color came from that bag.\n",
    "        \"\"\"\n",
    "        bag, color = data\n",
    "        mix = self.hypotheses[hypo][bag]\n",
    "        like = mix[color]\n",
    "        \n",
    "        return like\n",
    "    \n",
    "suite = M_and_M('AB')\n",
    "\n",
    "suite.Update(('bag1', 'yellow'))\n",
    "suite.Update(('bag2', 'green'))\n",
    "\n",
    "suite.Print()"
   ]
  },
  {
   "cell_type": "code",
   "execution_count": null,
   "metadata": {
    "collapsed": true
   },
   "outputs": [],
   "source": []
  }
 ],
 "metadata": {
  "kernelspec": {
   "display_name": "Python 3",
   "language": "python",
   "name": "python3"
  },
  "language_info": {
   "codemirror_mode": {
    "name": "ipython",
    "version": 3
   },
   "file_extension": ".py",
   "mimetype": "text/x-python",
   "name": "python",
   "nbconvert_exporter": "python",
   "pygments_lexer": "ipython3",
   "version": "3.6.6"
  }
 },
 "nbformat": 4,
 "nbformat_minor": 2
}
