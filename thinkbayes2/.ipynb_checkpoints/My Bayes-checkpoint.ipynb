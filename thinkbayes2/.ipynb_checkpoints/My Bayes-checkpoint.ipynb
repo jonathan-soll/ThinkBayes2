{
 "cells": [
  {
   "cell_type": "code",
   "execution_count": 1,
   "metadata": {
    "collapsed": true
   },
   "outputs": [],
   "source": [
    "import numpy as np\n",
    "import matplotlib.pyplot as plt"
   ]
  },
  {
   "cell_type": "code",
   "execution_count": 2,
   "metadata": {
    "collapsed": true
   },
   "outputs": [],
   "source": [
    "def Mean(pmf):\n",
    "    total = 0\n",
    "    for hypo, prob in pmf.items():\n",
    "        total += hypo * prob\n",
    "    return total\n",
    "\n",
    "def Percentile(pmf, percentage):\n",
    "    p = percentage / 100.0\n",
    "    total = 0\n",
    "    for hypo, prob in pmf.items():\n",
    "        total += prob\n",
    "        if total >= p:\n",
    "            return hypo\n",
    "        \n",
    "def MakeCdf(pmf):\n",
    "    \"\"\"\n",
    "    pmf is a dict of hypotheses and probabilities. pmf should be sorted in a logical order\n",
    "    \n",
    "    Returns a dict of hypotheses and cumulative probabilities.\n",
    "    \"\"\"\n",
    "    \n",
    "    hypos, probs = zip(*pmf.items())\n",
    "    cumprobs = np.cumsum(probs)\n",
    "    cdf = {hypo:cumprob for hypo, cumprob in zip(hypos, cumprobs)}\n",
    "    \n",
    "    return cdf    \n",
    "\n",
    "def MaximumLikelihood(pmf):\n",
    "    \"Returns the value with the highest probability\"\n",
    "    prob, hypo = max((prob, hypo) for (hypo, prob) in pmf.items())\n",
    "    return hypo"
   ]
  },
  {
   "cell_type": "code",
   "execution_count": 121,
   "metadata": {
    "collapsed": true
   },
   "outputs": [],
   "source": [
    "class Pmf(object):\n",
    "    \n",
    "    def __init__(self, hypotheses):\n",
    "        \"\"\"\n",
    "        `hypos` is a list of labels for hypotheses of a given problem,\n",
    "        currently this ignore a uniform prior\n",
    "        \"\"\"\n",
    "        self.hypotheses = {}\n",
    "        for hypothesis in hypotheses:\n",
    "            if hypothesis in self.hypotheses.keys():\n",
    "                self.hypotheses[hypothesis] += 1\n",
    "            else:\n",
    "                self.hypotheses[hypothesis] = 1\n",
    "        self.normalize()\n",
    "        self.prior = self.hypotheses.copy()\n",
    "        \n",
    "    def normalize(self):\n",
    "        \"\"\"\n",
    "        Normalize the total probabilities to add up to 100%\n",
    "        \"\"\"\n",
    "        total = sum(self.hypotheses.values())\n",
    "        for hypothesis in self.hypotheses:\n",
    "            self.hypotheses[hypothesis] = self.hypotheses[hypothesis] / total \n",
    "            \n",
    "    def update(self, data):\n",
    "        \"\"\"\n",
    "        Update the probability distribution by multiplying the prior \n",
    "        by the likelihood and then normalizing\n",
    "        \"\"\"\n",
    "        for hypothesis in self.hypotheses:\n",
    "            like = self.likelihood(data, hypothesis)\n",
    "            self.hypotheses[hypothesis] = self.hypotheses[hypothesis] * like\n",
    "        self.normalize()\n",
    "        \n",
    "    def plot_prior_and_posterior(self):\n",
    "        hypos_prior, probs_prior = zip(*self.prior.items())\n",
    "        hypos_posterior, probs_posterior = zip(*self.hypotheses.items())\n",
    "        \n",
    "        p = plt.plot(hypos_prior, probs_prior, label = 'prior')\n",
    "        p = plt.plot(hypos_posterior, probs_posterior, label = 'posterior')\n",
    "        \n",
    "        return p"
   ]
  },
  {
   "cell_type": "markdown",
   "metadata": {},
   "source": [
    "The Cookie Problem:\n",
    "\n",
    "There are two bowls\n",
    "Bowl 1: 30 vanilla and 10 chocolate\n",
    "Bowl 2: 20 vanilla and 20 chocolate\n",
    "\n",
    "You pick one cookie and it is vanilla, what is the probability it is from Bowl 1?\n",
    "\n",
    "Likelihood for Bowl 1 = P(Vanilla|Bowl 1) = 0.75 <br>\n",
    "Likelihood for Bowl 2 = P(Vanilla|Bowl 2) = 0.5"
   ]
  },
  {
   "cell_type": "code",
   "execution_count": 122,
   "metadata": {
    "collapsed": true
   },
   "outputs": [],
   "source": [
    "class Bowl(object):\n",
    "    \n",
    "    def __init__(self, num_vanilla, num_chocolate):\n",
    "        self.mix = dict(vanilla=num_vanilla, chocolate=num_chocolate)\n",
    "        \n",
    "\n",
    "class Cookie(Pmf):\n",
    "    \n",
    "    def __init__(self, hypotheses, replace = True):\n",
    "        Pmf.__init__(self, hypotheses)\n",
    "        self.mixes = {\n",
    "                        'Bowl 1': dict(vanilla = 0.75, chocolate= 0.25),\n",
    "                        'Bowl 2': dict(vanilla = 0.5, chocolate= 0.5)\n",
    "                     }\n",
    "        self.replace = replace\n",
    "        \n",
    "    def likelihood(self, data, hypo):\n",
    "        \"\"\"\n",
    "        Compute the likelihood which is the probability we will see the data\n",
    "        given the specific hypothesis.\n",
    "        \n",
    "        Data could be either 'vanilla' or 'chocolate' and hypothesis could be\n",
    "        'Bowl 1' or 'Bowl 2'\n",
    "        \"\"\"\n",
    "        like = self.mixes[hypo][data]\n",
    "        return like\n",
    "    \n",
    "    \n",
    "class Cookie(Pmf):\n",
    "    \n",
    "    def __init__(self, hypotheses, replace = True):\n",
    "        Pmf.__init__(self, hypotheses)\n",
    "        self.mixes = {\n",
    "                        'Bowl 1': Bowl(num_vanilla=30, num_chocolate=10),\n",
    "                        'Bowl 2': Bowl(num_vanilla=20, num_chocolate=20)\n",
    "                     }\n",
    "        self.replace = replace\n",
    "        \n",
    "    def likelihood(self, data, hypo):\n",
    "        \"\"\"\n",
    "        Compute the likelihood which is the probability we will see the data\n",
    "        given the specific hypothesis.\n",
    "        \n",
    "        Data could be either 'vanilla' or 'chocolate' and hypothesis could be\n",
    "        'Bowl 1' or 'Bowl 2'\n",
    "        \"\"\"\n",
    "        bowl = self.mixes[hypo]\n",
    "        data_cookie = bowl.mix[data]\n",
    "        total_cookies = sum(bowl.mix.values())\n",
    "        \n",
    "        if self.replace == False:\n",
    "            bowl.mix[data] -= 1\n",
    "        \n",
    "        like = data_cookie / total_cookies\n",
    "        return like"
   ]
  },
  {
   "cell_type": "code",
   "execution_count": 123,
   "metadata": {},
   "outputs": [
    {
     "name": "stdout",
     "output_type": "stream",
     "text": [
      "{'Bowl 1': 0.6, 'Bowl 2': 0.4}\n",
      "{'Bowl 1': 0.5337423312883435, 'Bowl 2': 0.46625766871165636}\n"
     ]
    }
   ],
   "source": [
    "hypotheses = ['Bowl 1', 'Bowl 2']\n",
    "\n",
    "X = Cookie(hypotheses, replace = False)\n",
    "X.update('vanilla')\n",
    "print(X.hypotheses)\n",
    "\n",
    "X = Cookie(hypotheses, replace = False)\n",
    "dataset = ['vanilla', 'chocolate', 'vanilla']\n",
    "for data in dataset:\n",
    "    X.update(data)\n",
    "print(X.hypotheses)"
   ]
  },
  {
   "cell_type": "markdown",
   "metadata": {},
   "source": [
    "Monty Hall problem:\n",
    "\n",
    "There are three doors, there is a car behind one door and no prize behind the other two. You pick door A and then Monty opens a different door that doesn't have a car behgind it.\n",
    "\n",
    "What is the probability it is behind each door?"
   ]
  },
  {
   "cell_type": "code",
   "execution_count": 124,
   "metadata": {
    "collapsed": true
   },
   "outputs": [],
   "source": [
    "class Monty(Pmf):\n",
    "    \n",
    "    def likelihood(self, data, hypo):\n",
    "        \"\"\"\n",
    "        Given a data point and a hypothesis, get the likelihood of the data given the hypothesis\n",
    "        by looking at the `mixes` variable. \n",
    "        \n",
    "        In this case the data point is the door that Monty opens to reveal nothing behind it\n",
    "        \"\"\"\n",
    "        if hypo == data:\n",
    "            \"The likelihood of Monty opening the door with the car is 0\"\n",
    "            return 0\n",
    "        elif hypo == 'A':\n",
    "            \"The likelihood of Monty opening one of the other doors given the car is behind Door A is 0.5\"\n",
    "            return 0.5\n",
    "        else:\n",
    "            \"\"\"\n",
    "            If the car is not behind the Door we chose (and we know it's not behind the Door Monty opened)\n",
    "            then there is a 100% probability it is behind the door Monty did not open (i.e. not Door A and \n",
    "            not the door he opened)\n",
    "            \"\"\" \n",
    "            return 1\n",
    "        return like"
   ]
  },
  {
   "cell_type": "code",
   "execution_count": 125,
   "metadata": {},
   "outputs": [
    {
     "name": "stdout",
     "output_type": "stream",
     "text": [
      "{'A': 0.3333333333333333, 'B': 0.0, 'C': 0.6666666666666666}\n"
     ]
    }
   ],
   "source": [
    "# choose Door A, Monty opens door B\n",
    "hypotheses = ['A', 'B', 'C']\n",
    "\n",
    "X = Monty(hypotheses)\n",
    "X.update('B')\n",
    "print(X.hypotheses)"
   ]
  },
  {
   "cell_type": "markdown",
   "metadata": {},
   "source": [
    "The M&M Problem:\n",
    "\n",
    "In 1995 blue M&M's were first introduced. \n",
    "\n",
    "Pre-1995 mix:  30% Brown, 20% Yellow, 20% Red, 10% Green, 10% Orange, 10% Tan\n",
    "Post-1995 mix:  24% Blue, 20% Green, 16% Orange, 14% Yellow, 13% Red, 13% Brown\n",
    "\n",
    "There is one bag of M&Ms from 1994 and one from 1996, but we don't know which is which. We take one M&M from each bag.\n",
    "Bag 1: pulled a yellow\n",
    "Bag 2: pulled a green\n",
    "\n",
    "What is the probability the yellow one came from 1994 bag? I.e, what is the probability Bag 1 is from 1994?\n",
    "\n",
    "Hypotheses:\n",
    "A: Bag 1 is 1994, Bag 2 is 1996\n",
    "B: Bag 1 is 1996, Bag 2 is 1994"
   ]
  },
  {
   "cell_type": "code",
   "execution_count": 126,
   "metadata": {
    "collapsed": true
   },
   "outputs": [],
   "source": [
    "class M_and_M(Pmf):\n",
    "    \"\"\"\n",
    "    Hypothesis \n",
    "        hypo1:  Bag 1 is 1994 and Bag 2 is 1996\n",
    "        hypo2:  Bag 1 is 1996 and Bag 2 is 1994\n",
    "    \"\"\"\n",
    "    def __init__(self, hypotheses):\n",
    "        Pmf.__init__(self, hypotheses)\n",
    "        mix94 = dict(\n",
    "                            brown = 30,\n",
    "                            yellow = 20,\n",
    "                            red = 20,\n",
    "                            green = 10\n",
    "                            , orange = 10\n",
    "                            , tan = 10\n",
    "                        )\n",
    "        mix96 = dict(\n",
    "                            blue=24,\n",
    "                            green=20,\n",
    "                            orange=16,\n",
    "                            yellow=14,\n",
    "                            red=13,\n",
    "                            brown=13\n",
    "                        )\n",
    "        hypo1 = dict(bag1 = mix94, bag2 = mix96)\n",
    "        hypo2 = dict(bag1 = mix96, bag2 = mix94)\n",
    "        self.hypos = dict(hypoA=hypo1, hypoB=hypo2)\n",
    "        \n",
    "    def likelihood(self, data, hypo):\n",
    "        \"\"\"\n",
    "        Compute the likelihood which is the probability we will see the data\n",
    "        given the specific hypothesis.\n",
    "        \n",
    "        Data could be a combo of a bag and a color like 'bag1, green' or 'bag2, brown', hypothesis is either:\n",
    "            - hypo1: bag1 is '94 and bag2 is '96\n",
    "            - hypo2: bag1 is '96 and bag2 is '94\n",
    "            \n",
    "        If the data is 'green' and the hypothesis is 'hypo1', then the likelihood is \n",
    "        the probability of getting a green given bag1 is mix94 and bag2 is mix96\n",
    "        \"\"\"\n",
    "        bag, color = data\n",
    "        like = self.hypos[hypo][bag][color]\n",
    "        return like"
   ]
  },
  {
   "cell_type": "code",
   "execution_count": 127,
   "metadata": {},
   "outputs": [
    {
     "name": "stdout",
     "output_type": "stream",
     "text": [
      "{'hypoA': 0.7407407407407408, 'hypoB': 0.25925925925925924}\n"
     ]
    }
   ],
   "source": [
    "X = M_and_M(['hypoA', 'hypoB'])\n",
    "X.update(('bag1', 'yellow'))\n",
    "X.update(('bag2', 'green'))\n",
    "print(X.hypotheses)"
   ]
  },
  {
   "cell_type": "markdown",
   "metadata": {},
   "source": [
    "Dice Problem: I have a box of dice that contains a 4-sided die, a 6-sided die, an\n",
    "8-sided die, a 12-sided die, and a 20-sided die. \n",
    "\n",
    "I select one die from the box and get a '6', what is the probability I rolled each die?"
   ]
  },
  {
   "cell_type": "code",
   "execution_count": 128,
   "metadata": {
    "collapsed": true
   },
   "outputs": [],
   "source": [
    "class Dice(Pmf):\n",
    "    \n",
    "    def likelihood(self, data, hypo):\n",
    "        if hypo < data:\n",
    "            return 0\n",
    "        else:\n",
    "            return 1.0 / hypo"
   ]
  },
  {
   "cell_type": "code",
   "execution_count": 130,
   "metadata": {},
   "outputs": [
    {
     "name": "stdout",
     "output_type": "stream",
     "text": [
      "{4: 0.0, 6: 0.3921568627450981, 8: 0.2941176470588236, 12: 0.19607843137254904, 20: 0.11764705882352945}\n",
      "{4: 0.0, 6: 0.0, 8: 0.9432484536722127, 12: 0.055206128061290875, 20: 0.0015454182664965536}\n"
     ]
    }
   ],
   "source": [
    "hypotheses = [4, 6, 8, 12, 20]\n",
    "\n",
    "X = Dice(hypotheses)\n",
    "X.update(6)\n",
    "print(X.hypotheses)\n",
    "\n",
    "dataset = [6, 8, 7, 7, 5, 4]\n",
    "for data in dataset:\n",
    "    X.update(data)\n",
    "print(X.hypotheses)"
   ]
  },
  {
   "cell_type": "markdown",
   "metadata": {},
   "source": [
    "The Locomotive Problem:\n",
    "\n",
    "A railroad numbers its locomotives in order 1..N. One day you\n",
    "see a locomotive with the number 60. Estimate how many locomotives the railroad has.\n",
    "\n",
    "The hypothesis is the number of locomotives in existence. The likelihood is the probability of seeing the #60 on a train given a specific number of locomotives which would be 1 out of the hypothesis."
   ]
  },
  {
   "cell_type": "code",
   "execution_count": 131,
   "metadata": {
    "collapsed": true
   },
   "outputs": [],
   "source": [
    "class Train(Pmf):\n",
    "    \n",
    "    def likelihood(self, data, hypo):\n",
    "        if hypo < data:\n",
    "            return 0\n",
    "        else:\n",
    "            return 1 / hypo\n",
    "\n",
    "\n",
    "# for the prior, assume an equal likelihood from 1 to 1000\n",
    "num_trains = 500\n",
    "hypotheses = np.arange(1, num_trains+1)\n",
    "X = Train(hypotheses)\n",
    "\n",
    "dataset = [60, 30, 90]\n",
    "for data in dataset:\n",
    "    X.update(data)"
   ]
  },
  {
   "cell_type": "code",
   "execution_count": 132,
   "metadata": {
    "scrolled": true
   },
   "outputs": [
    {
     "data": {
      "image/png": "[encoded data removed]",
      "text/plain": [
       "<matplotlib.figure.Figure at 0x20c00979cc0>"
      ]
     },
     "metadata": {},
     "output_type": "display_data"
    },
    {
     "data": {
      "text/plain": [
       "151.84958795903825"
      ]
     },
     "execution_count": 132,
     "metadata": {},
     "output_type": "execute_result"
    }
   ],
   "source": [
    "values, probabilities = zip(*X.hypotheses.items())\n",
    "plt.plot(values, probabilities)\n",
    "plt.show()\n",
    "\n",
    "Mean(X.hypotheses)"
   ]
  },
  {
   "cell_type": "markdown",
   "metadata": {},
   "source": [
    "Locomotive problem with a power law prior\n",
    "\n",
    "$$PMF(x)=\\left(\\frac{1}{x}\\right)^a$$\n",
    "\n",
    "Where $PMF(x)$ is the probability mass function of x (# of locomotives) and $\\alpha$ is a parameter for the power law"
   ]
  },
  {
   "cell_type": "code",
   "execution_count": 133,
   "metadata": {
    "collapsed": true
   },
   "outputs": [],
   "source": [
    "class Train(Pmf):\n",
    "    \"\"\"\n",
    "    Overwrote the __init__ function to use a power law instead of a uniform prior\n",
    "    \"\"\"\n",
    "    def __init__(self, hypotheses, alpha=1.0):\n",
    "        self.hypotheses = {}\n",
    "        for hypothesis in hypotheses:\n",
    "            self.hypotheses[hypothesis] = (hypothesis)**(-alpha)\n",
    "        self.normalize()\n",
    "        self.prior = self.hypotheses.copy()\n",
    "    \n",
    "    def likelihood(self, data, hypo):\n",
    "        if hypo < data:\n",
    "            return 0\n",
    "        else:\n",
    "            return 1 / hypo"
   ]
  },
  {
   "cell_type": "code",
   "execution_count": 134,
   "metadata": {
    "collapsed": true
   },
   "outputs": [],
   "source": [
    "num_trains = 10\n",
    "alpha = 1.0\n",
    "hypotheses = np.arange(1, num_trains+1)\n",
    "\n",
    "X = Train(hypotheses)\n",
    "prior = X.hypotheses"
   ]
  },
  {
   "cell_type": "code",
   "execution_count": 135,
   "metadata": {},
   "outputs": [
    {
     "data": {
      "image/png": "[encoded data removed]",
      "text/plain": [
       "<matplotlib.figure.Figure at 0x20c7fe25ac8>"
      ]
     },
     "metadata": {},
     "output_type": "display_data"
    },
    {
     "name": "stdout",
     "output_type": "stream",
     "text": [
      "133.99746308073063\n",
      "(91, 243)\n"
     ]
    }
   ],
   "source": [
    "# for the prior, use a power law with alpha = 1.0\n",
    "num_trains = 2000\n",
    "alpha = 1.0\n",
    "hypotheses = np.arange(1, num_trains+1)\n",
    "X = Train(hypotheses, alpha=alpha)\n",
    "prior = X.hypotheses\n",
    "\n",
    "dataset = [60, 30, 90]\n",
    "for data in dataset:\n",
    "    X.update(data)\n",
    "\n",
    "X.plot_prior_and_posterior()\n",
    "plt.legend(loc='best')\n",
    "plt.show()\n",
    "\n",
    "interval = Percentile(X.hypotheses, 5), Percentile(X.hypotheses, 95)\n",
    "print(Mean(X.hypotheses))\n",
    "print(interval)"
   ]
  },
  {
   "cell_type": "markdown",
   "metadata": {},
   "source": [
    "Euro problem:\n",
    "\n",
    "When spun on edge 250 times, a Belgian one-euro coin came up heads 140 times and tails 110.\n",
    "\n",
    "What is the probability the coin is fair?\n",
    "\n",
    "A hypothesis is the probability of a heads. A data point is whether the coin lands heads or tails. the likelihood function is the probability of getting a heads or tails given a specific hypothesis for the probability of a heads."
   ]
  },
  {
   "cell_type": "code",
   "execution_count": 136,
   "metadata": {
    "collapsed": true
   },
   "outputs": [],
   "source": [
    "class Euro(Pmf):\n",
    "    \n",
    "    def likelihood(self, data, hypo):\n",
    "        \"\"\"\n",
    "        Given a hypothesis p where p is the probability of heads, the likelihood we\n",
    "        would get the 'data' (H or T) is p if it's H or 1 - p if it's T\n",
    "        \"\"\"\n",
    "        if data == 'H':\n",
    "            return hypo\n",
    "        else:\n",
    "            return 1 - hypo"
   ]
  },
  {
   "cell_type": "code",
   "execution_count": 137,
   "metadata": {},
   "outputs": [
    {
     "data": {
      "image/png": "[encoded data removed]",
      "text/plain": [
       "<matplotlib.figure.Figure at 0x20c02b224e0>"
      ]
     },
     "metadata": {},
     "output_type": "display_data"
    },
    {
     "name": "stdout",
     "output_type": "stream",
     "text": [
      "Maximum Likelihood: 0.56\n",
      "Mean: 0.5595238095238094\n",
      "Median: 0.56\n",
      "Interval: 0.51 -- 0.61\n"
     ]
    }
   ],
   "source": [
    "hypotheses = np.linspace(0, 1, 101) \n",
    "X = Euro(hypotheses)\n",
    "\n",
    "dataset = ['H'] * 140 + ['T'] * 110\n",
    "for data in dataset:\n",
    "    X.update(data)\n",
    "\n",
    "X.plot_prior_and_posterior()\n",
    "plt.legend(loc='best')\n",
    "plt.show()\n",
    "\n",
    "print('Maximum Likelihood:', MaximumLikelihood(X.hypotheses))\n",
    "print('Mean:', Mean(X.hypotheses))\n",
    "print('Median:', Percentile(X.hypotheses, 50))\n",
    "print('Interval:', Percentile(X.hypotheses, 5), '--', Percentile(X.hypotheses, 95))"
   ]
  },
  {
   "cell_type": "code",
   "execution_count": 138,
   "metadata": {
    "collapsed": true
   },
   "outputs": [],
   "source": [
    "class Euro(Pmf):\n",
    "    \n",
    "    def __init__(self):\n",
    "        hypotheses = np.linspace(0, 1, 101)\n",
    "        self.hypotheses = {}\n",
    "        for hypothesis in hypotheses:\n",
    "            if hypothesis <= .50:\n",
    "                self.hypotheses[hypothesis] = hypothesis\n",
    "            else:\n",
    "                self.hypotheses[hypothesis] = 1 - hypothesis\n",
    "        self.normalize()\n",
    "        self.prior = self.hypotheses.copy()\n",
    "        \n",
    "    \n",
    "    def likelihood(self, data, hypo):\n",
    "        \"\"\"\n",
    "        Given a hypothesis p where p is the probability of heads, the likelihood we\n",
    "        would get the 'data' (H or T) is p if it's H or 1 - p if it's T\n",
    "        \"\"\"\n",
    "        if data == 'H':\n",
    "            return hypo\n",
    "        else:\n",
    "            return 1 - hypo"
   ]
  },
  {
   "cell_type": "code",
   "execution_count": 139,
   "metadata": {},
   "outputs": [
    {
     "data": {
      "image/png": "[encoded data removed]",
      "text/plain": [
       "<matplotlib.figure.Figure at 0x20c02b22be0>"
      ]
     },
     "metadata": {},
     "output_type": "display_data"
    },
    {
     "name": "stdout",
     "output_type": "stream",
     "text": [
      "Maximum Likelihood: 0.56\n",
      "Mean: 0.5574349943859505\n",
      "Median: 0.56\n",
      "Interval: 0.51 -- 0.61\n"
     ]
    }
   ],
   "source": [
    "# hypotheses = np.linspace(0, 1, 101) \n",
    "X = Euro()\n",
    "\n",
    "dataset = ['H'] * 140 + ['T'] * 110\n",
    "for data in dataset:\n",
    "    X.update(data)\n",
    "\n",
    "X.plot_prior_and_posterior()\n",
    "plt.legend(loc='best')\n",
    "plt.show()\n",
    "\n",
    "print('Maximum Likelihood:', MaximumLikelihood(X.hypotheses))\n",
    "print('Mean:', Mean(X.hypotheses))\n",
    "print('Median:', Percentile(X.hypotheses, 50))\n",
    "print('Interval:', Percentile(X.hypotheses, 5), '--', Percentile(X.hypotheses, 95))"
   ]
  },
  {
   "cell_type": "code",
   "execution_count": 140,
   "metadata": {
    "collapsed": true
   },
   "outputs": [],
   "source": [
    "class Beta(object):\n",
    "    \n",
    "    def __init__(self, alpha=1.0, beta=1.0):\n",
    "        self.alpha = alpha\n",
    "        self.beta = beta\n",
    "        \n",
    "    def update(self, data):\n",
    "        \"\"\"\n",
    "        'data' is a tuple of integers (num_heads, num_tails)\n",
    "        \n",
    "        Returns an updated alpha and beta. To update a beta distribution, \n",
    "        you simply add num_heads to alpha and num_tails to beta.\n",
    "        \"\"\"\n",
    "        heads, tails = data\n",
    "        self.alpha += heads\n",
    "        self.beta += tails\n",
    "        \n",
    "    def mean(self):\n",
    "        \"\"\"\n",
    "        Return the mean of the distribution which represents the probability of heads. \n",
    "        This can be found by finding the fraction of heads compared to the total flips (heads and tails)\n",
    "        \"\"\"\n",
    "        return float(self.alpha) / (self.alpha + self.beta)\n",
    "    \n",
    "    def pdf(self, hypo):\n",
    "        \"\"\"\n",
    "        For a given hypothesis 'hypo' return the value of the probability density function\n",
    "        for the beta distribution\n",
    "        \"\"\"\n",
    "        return (hypo**(self.alpha - 1)) * ((1-hypo)**(self.beta - 1))"
   ]
  },
  {
   "cell_type": "code",
   "execution_count": 141,
   "metadata": {},
   "outputs": [
    {
     "data": {
      "text/plain": [
       "0.5595238095238095"
      ]
     },
     "execution_count": 141,
     "metadata": {},
     "output_type": "execute_result"
    }
   ],
   "source": [
    "X = Beta()\n",
    "data = (140, 110)\n",
    "X.update(data)\n",
    "X.mean()"
   ]
  },
  {
   "cell_type": "markdown",
   "metadata": {
    "collapsed": true
   },
   "source": [
    "Dice problem:\n",
    "\n",
    "Roll three 6-sided die and add up the some. What is the distribution of this sum?"
   ]
  },
  {
   "cell_type": "code",
   "execution_count": 157,
   "metadata": {},
   "outputs": [],
   "source": [
    "class Die(Pmf):\n",
    "    def __init__(self, sides):\n",
    "        \"\"\"\n",
    "        `hypos` is a list of labels for hypotheses of a given problem,\n",
    "        currently this ignore a uniform prior\n",
    "        \"\"\"\n",
    "        self.hypotheses = {}\n",
    "        for side in range(1, sides+1):\n",
    "            self.hypotheses[side] = 1\n",
    "        self.normalize()\n",
    "        self.prior = self.hypotheses.copy()        \n",
    "\n",
    "def sampleSum(pmfs, n):\n",
    "    \"\"\"\n",
    "    Given pmfs (dicts of vals and probabilities, where the vals are numeric (e.g. sides of a die)),\n",
    "    randomly choose from each pmf (e.g. roll each dice) and add up the sum. \n",
    "    Do that n times and calculate a pmf from the results.\n",
    "    \"\"\"\n",
    "    \n",
    "    # choose from each pmf (e.g. each dice) and add up the total\n",
    "    totals = []\n",
    "    for i in range(n):\n",
    "        total = 0\n",
    "        for pmf in pmfs:\n",
    "            total += randomChoice(pmf)\n",
    "        totals.append(total)\n",
    "    \n",
    "    totals_pmf = Pmf(totals)\n",
    "    \n",
    "    return totals_pmf\n",
    "\n",
    "def randomChoice(pmf):\n",
    "    \"\"\"\n",
    "    Given a pmf (dict of vals and probabilities, where the vals are numeric (e.g. sides of a die)),\n",
    "    randomly choose one of the vals\n",
    "    \"\"\"\n",
    "    roll = np.random.choice([k for k in pmf.hypotheses.keys()], p = [p for p in pmf.hypotheses.values()])\n",
    "    return roll\n",
    "\n",
    "def combine_pmfs(pmfs):\n",
    "    \"\"\"\n",
    "    Given pmfs (dicts of vals and probabilities, where the vals are numeric (e.g. sides of a die)),\n",
    "    combine all three pmfs into 1 by adding them together\n",
    "    \"\"\"\n",
    "\n",
    "    pmf_1 = pmfs[0] # start with the first pmf\n",
    "    num_pmfs = len(pmfs)\n",
    "    for i in range(1,num_pmfs):\n",
    "        result_pmf = {}\n",
    "        other_pmf = pmfs[i]\n",
    "        for v1, p1, in pmf_1.items():\n",
    "            for v2, p2 in other_pmf.items():\n",
    "                if v1+v2 in result_pmf.keys():\n",
    "                    result_pmf[v1+v2] += p1*p2\n",
    "                else:\n",
    "                    result_pmf[v1+v2] = p1*p2\n",
    "                    \n",
    "        pmf_1 = result_pmf.copy()\n",
    "        \n",
    "    \n",
    "    return result_pmf"
   ]
  },
  {
   "cell_type": "code",
   "execution_count": 332,
   "metadata": {},
   "outputs": [
    {
     "data": {
      "image/png": "[encoded data removed]",
      "text/plain": [
       "<matplotlib.figure.Figure at 0x20c02c7c198>"
      ]
     },
     "metadata": {},
     "output_type": "display_data"
    }
   ],
   "source": [
    "d6 = Die(6)\n",
    "dice = [d6] * 3\n",
    "X = sampleSum(dice, 3000)\n",
    "simulation_pdf = X.hypotheses\n",
    "\n",
    "dice_pmfs = [d.hypotheses for d in dice]\n",
    "enumeration_pdf = combine_pmfs(dice_pmfs)\n",
    "\n",
    "hypos, probs = zip(*sorted(simulation_pdf.items()))\n",
    "plt.plot(hypos, probs, label = 'simulated')\n",
    "hypos, probs = zip(*sorted(enumeration_pdf.items()))\n",
    "plt.plot(hypos, probs, label = 'exact', ls = '--')\n",
    "\n",
    "plt.legend(loc='best')\n",
    "plt.show()"
   ]
  },
  {
   "cell_type": "markdown",
   "metadata": {},
   "source": [
    "Dice problem continued:\n",
    "\n",
    "When you play Dungeons and Dragons, you roll three dice for each of 6 attributes. We are interested in distribution of the maximum of all six of our 3-dice rolls. Concretely, we \"occurence\" is doing a 3-die roll six times and seeing what the maximum of the six time,. "
   ]
  },
  {
   "cell_type": "code",
   "execution_count": 156,
   "metadata": {},
   "outputs": [
    {
     "data": {
      "text/plain": [
       "34"
      ]
     },
     "execution_count": 156,
     "metadata": {},
     "output_type": "execute_result"
    }
   ],
   "source": [
    "np.sum([t == 5 for t in totals])"
   ]
  },
  {
   "cell_type": "code",
   "execution_count": 119,
   "metadata": {},
   "outputs": [
    {
     "name": "stdout",
     "output_type": "stream",
     "text": [
      "nope\n"
     ]
    }
   ],
   "source": [
    "if 1 in X.hypotheses.keys():\n",
    "    print('yo')\n",
    "else:\n",
    "    print('nope')"
   ]
  },
  {
   "cell_type": "code",
   "execution_count": 120,
   "metadata": {},
   "outputs": [
    {
     "data": {
      "text/plain": [
       "dict_keys([9, 12, 10, 4, 11, 14, 7, 13, 17, 8, 3, 6, 15, 16, 5, 18, 2])"
      ]
     },
     "execution_count": 120,
     "metadata": {},
     "output_type": "execute_result"
    }
   ],
   "source": [
    "X.hypotheses.keys()"
   ]
  },
  {
   "cell_type": "code",
   "execution_count": 90,
   "metadata": {},
   "outputs": [
    {
     "name": "stdout",
     "output_type": "stream",
     "text": [
      "0\n",
      "1\n",
      "2\n",
      "3\n",
      "4\n"
     ]
    }
   ],
   "source": [
    "for i in range(5):\n",
    "    print(i)"
   ]
  },
  {
   "cell_type": "code",
   "execution_count": 39,
   "metadata": {
    "collapsed": true
   },
   "outputs": [],
   "source": [
    "import random"
   ]
  },
  {
   "cell_type": "code",
   "execution_count": 40,
   "metadata": {},
   "outputs": [
    {
     "data": {
      "text/plain": [
       "0.7284128427028486"
      ]
     },
     "execution_count": 40,
     "metadata": {},
     "output_type": "execute_result"
    }
   ],
   "source": [
    "random.random()"
   ]
  },
  {
   "cell_type": "code",
   "execution_count": 57,
   "metadata": {},
   "outputs": [
    {
     "data": {
      "text/plain": [
       "4"
      ]
     },
     "execution_count": 57,
     "metadata": {},
     "output_type": "execute_result"
    }
   ],
   "source": [
    "np.random.choice([k for k in d6.hypotheses.keys()], p = [p for p in d6.hypotheses.values()])"
   ]
  },
  {
   "cell_type": "code",
   "execution_count": 58,
   "metadata": {},
   "outputs": [
    {
     "data": {
      "text/plain": [
       "dict_values([0.16666666666666666, 0.16666666666666666, 0.16666666666666666, 0.16666666666666666, 0.16666666666666666, 0.16666666666666666])"
      ]
     },
     "execution_count": 58,
     "metadata": {},
     "output_type": "execute_result"
    }
   ],
   "source": [
    "d6.hypotheses.values()"
   ]
  },
  {
   "cell_type": "code",
   "execution_count": null,
   "metadata": {
    "collapsed": true
   },
   "outputs": [],
   "source": []
  }
 ],
 "metadata": {
  "kernelspec": {
   "display_name": "Python 3",
   "language": "python",
   "name": "python3"
  },
  "language_info": {
   "codemirror_mode": {
    "name": "ipython",
    "version": 3
   },
   "file_extension": ".py",
   "mimetype": "text/x-python",
   "name": "python",
   "nbconvert_exporter": "python",
   "pygments_lexer": "ipython3",
   "version": "3.6.6"
  }
 },
 "nbformat": 4,
 "nbformat_minor": 2
}
